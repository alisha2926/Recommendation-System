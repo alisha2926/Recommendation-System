{
 "cells": [
  {
   "cell_type": "code",
   "execution_count": 1,
   "id": "ca5586bb-210f-44bf-b73d-73760f08df21",
   "metadata": {},
   "outputs": [],
   "source": [
    "import numpy as np\n",
    "import pandas as pd\n",
    "import sklearn\n",
    "import matplotlib.pyplot as plt\n",
    "import seaborn as sns"
   ]
  },
  {
   "cell_type": "code",
   "execution_count": 2,
   "id": "d7108f29-565d-4afe-b34d-bab996e31070",
   "metadata": {},
   "outputs": [
    {
     "data": {
      "text/html": [
       "<div>\n",
       "<style scoped>\n",
       "    .dataframe tbody tr th:only-of-type {\n",
       "        vertical-align: middle;\n",
       "    }\n",
       "\n",
       "    .dataframe tbody tr th {\n",
       "        vertical-align: top;\n",
       "    }\n",
       "\n",
       "    .dataframe thead th {\n",
       "        text-align: right;\n",
       "    }\n",
       "</style>\n",
       "<table border=\"1\" class=\"dataframe\">\n",
       "  <thead>\n",
       "    <tr style=\"text-align: right;\">\n",
       "      <th></th>\n",
       "      <th>userId</th>\n",
       "      <th>movieId</th>\n",
       "      <th>title</th>\n",
       "      <th>rating</th>\n",
       "    </tr>\n",
       "  </thead>\n",
       "  <tbody>\n",
       "    <tr>\n",
       "      <th>0</th>\n",
       "      <td>1</td>\n",
       "      <td>8</td>\n",
       "      <td>Fight Club</td>\n",
       "      <td>3.7</td>\n",
       "    </tr>\n",
       "    <tr>\n",
       "      <th>1</th>\n",
       "      <td>1</td>\n",
       "      <td>1</td>\n",
       "      <td>The Shawshank Redemption</td>\n",
       "      <td>4.6</td>\n",
       "    </tr>\n",
       "    <tr>\n",
       "      <th>2</th>\n",
       "      <td>1</td>\n",
       "      <td>24</td>\n",
       "      <td>The Departed</td>\n",
       "      <td>4.3</td>\n",
       "    </tr>\n",
       "    <tr>\n",
       "      <th>3</th>\n",
       "      <td>1</td>\n",
       "      <td>9</td>\n",
       "      <td>Forrest Gump</td>\n",
       "      <td>4.4</td>\n",
       "    </tr>\n",
       "    <tr>\n",
       "      <th>4</th>\n",
       "      <td>1</td>\n",
       "      <td>32</td>\n",
       "      <td>The Pianist</td>\n",
       "      <td>3.5</td>\n",
       "    </tr>\n",
       "  </tbody>\n",
       "</table>\n",
       "</div>"
      ],
      "text/plain": [
       "   userId  movieId                     title  rating\n",
       "0       1        8                Fight Club     3.7\n",
       "1       1        1  The Shawshank Redemption     4.6\n",
       "2       1       24              The Departed     4.3\n",
       "3       1        9              Forrest Gump     4.4\n",
       "4       1       32               The Pianist     3.5"
      ]
     },
     "execution_count": 2,
     "metadata": {},
     "output_type": "execute_result"
    }
   ],
   "source": [
    "ratings = pd.read_csv(\"ratings.csv\")\n",
    "ratings.head()"
   ]
  },
  {
   "cell_type": "code",
   "execution_count": 8,
   "id": "0f352eda-8052-491e-9561-770d54896942",
   "metadata": {},
   "outputs": [],
   "source": [
    "from scipy.sparse import csr_matrix\n",
    "from sklearn.neighbors import NearestNeighbors\n"
   ]
  },
  {
   "cell_type": "code",
   "execution_count": 9,
   "id": "fc3f9974-0930-4054-a46f-2644b889c46b",
   "metadata": {},
   "outputs": [
    {
     "name": "stdout",
     "output_type": "stream",
     "text": [
      "userId               1    2    3    4    5\n",
      "title                                     \n",
      "12 Angry Men       NaN  NaN  3.6  NaN  NaN\n",
      "Avengers: Endgame  NaN  3.5  NaN  NaN  4.5\n",
      "Django Unchained   NaN  NaN  NaN  NaN  NaN\n",
      "Fight Club         3.7  3.7  NaN  3.7  NaN\n",
      "Forrest Gump       4.4  NaN  NaN  NaN  3.7\n",
      "Gladiator          NaN  NaN  NaN  NaN  NaN\n",
      "Goodfellas         NaN  NaN  3.6  NaN  NaN\n",
      "Inception          NaN  NaN  NaN  NaN  NaN\n",
      "Interstellar       NaN  4.9  NaN  NaN  NaN\n",
      "Joker              3.6  NaN  NaN  NaN  NaN\n"
     ]
    }
   ],
   "source": [
    "def create_matrix(df):\n",
    "    user_mapper = {uid: i for i, uid in enumerate(df['userId'].unique())}\n",
    "    movie_mapper = {mid: i for i, mid in enumerate(df['movieId'].unique())}\n",
    "    movie_inv_mapper = {i: mid for mid, i in movie_mapper.items()}\n",
    "\n",
    "    user_index = df['userId'].map(user_mapper)\n",
    "    movie_index = df['movieId'].map(movie_mapper)\n",
    "\n",
    "    X = csr_matrix((df[\"rating\"], (movie_index, user_index)),\n",
    "                   shape=(len(movie_mapper), len(user_mapper)))\n",
    "    return X, movie_mapper, movie_inv_mapper\n",
    "\n",
    "\n",
    "X, movie_mapper, movie_inv_mapper = create_matrix(ratings)\n",
    "\n",
    "user_item_matrix = ratings.pivot_table(\n",
    "    index=\"title\", columns=\"userId\", values=\"rating\")\n",
    "print(user_item_matrix.iloc[:10, :5])"
   ]
  },
  {
   "cell_type": "code",
   "execution_count": 10,
   "id": "1f80c7c6-f883-4b5a-a4d4-66d8c05ea9ab",
   "metadata": {},
   "outputs": [],
   "source": [
    "def recommend_similar(movie_title, df, X, movie_mapper, movie_inv_mapper, k=5):\n",
    "    movie_id = df[df['title'] == movie_title]['movieId'].iloc[0]\n",
    "    movie_idx = movie_mapper[movie_id]\n",
    "    movie_vec = X[movie_idx]\n",
    "\n",
    "    model = NearestNeighbors(metric='cosine', algorithm='brute')\n",
    "    model.fit(X)\n",
    "    distances, indices = model.kneighbors(movie_vec, n_neighbors=k + 1)\n",
    "\n",
    "    neighbor_ids = [movie_inv_mapper[i] for i in indices.flatten()[1:]]\n",
    "    recommendations = df[df['movieId'].isin(neighbor_ids)]['title'].unique()\n",
    "\n",
    "    print(f\"\\nBecause you liked **{movie_title}**, you might also enjoy:\")\n",
    "    for rec in recommendations:\n",
    "        print(f\"- {rec}\")"
   ]
  },
  {
   "cell_type": "code",
   "execution_count": 11,
   "id": "e66109e5-7423-473b-9bac-967b9ace9ae4",
   "metadata": {},
   "outputs": [
    {
     "name": "stdout",
     "output_type": "stream",
     "text": [
      "\n",
      "Because you liked **The Dark Knight**, you might also enjoy:\n",
      "- Fight Club\n",
      "- The Pianist\n",
      "- Parasite\n",
      "- 12 Angry Men\n",
      "- The Lord of the Rings: The Return of the King\n"
     ]
    }
   ],
   "source": [
    "recommend_similar(\"The Dark Knight\", ratings, X,\n",
    "                  movie_mapper, movie_inv_mapper, k=5)"
   ]
  },
  {
   "cell_type": "code",
   "execution_count": null,
   "id": "be11774c-3e9a-4c84-b714-859ca51f94fb",
   "metadata": {},
   "outputs": [],
   "source": []
  }
 ],
 "metadata": {
  "kernelspec": {
   "display_name": "Python 3 (ipykernel)",
   "language": "python",
   "name": "python3"
  },
  "language_info": {
   "codemirror_mode": {
    "name": "ipython",
    "version": 3
   },
   "file_extension": ".py",
   "mimetype": "text/x-python",
   "name": "python",
   "nbconvert_exporter": "python",
   "pygments_lexer": "ipython3",
   "version": "3.11.7"
  }
 },
 "nbformat": 4,
 "nbformat_minor": 5
}
